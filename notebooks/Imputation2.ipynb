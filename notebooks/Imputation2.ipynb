{
 "cells": [
  {
   "cell_type": "markdown",
   "metadata": {},
   "source": [
    "## ESMA 4016\n",
    "## Edgar Acuna\n",
    "## Imputation II\n",
    "### Imputacion por la media media y moda y usando knn en los datasests: Titanic y segment "
   ]
  },
  {
   "cell_type": "code",
   "execution_count": 5,
   "metadata": {
    "collapsed": true
   },
   "outputs": [],
   "source": [
    "import pandas as pd\n",
    "import numpy as np\n",
    "import statsmodels.formula.api as sm\n",
    "%matplotlib inline\n",
    "import matplotlib.pyplot as plt\n",
    "from sklearn import preprocessing "
   ]
  },
  {
   "cell_type": "code",
   "execution_count": 6,
   "metadata": {},
   "outputs": [
    {
     "name": "stdout",
     "output_type": "stream",
     "text": [
      "<class 'pandas.core.frame.DataFrame'>\n",
      "RangeIndex: 1309 entries, 0 to 1308\n",
      "Data columns (total 11 columns):\n",
      "PassengerId    1309 non-null int64\n",
      "Pclass         1309 non-null int64\n",
      "Name           1309 non-null object\n",
      "Sex            1309 non-null object\n",
      "Age            1046 non-null float64\n",
      "SibSp          1309 non-null int64\n",
      "Parch          1309 non-null int64\n",
      "Ticket         1309 non-null object\n",
      "Fare           1308 non-null float64\n",
      "Cabin          295 non-null object\n",
      "Embarked       1307 non-null object\n",
      "dtypes: float64(2), int64(4), object(5)\n",
      "memory usage: 112.6+ KB\n"
     ]
    }
   ],
   "source": [
    "#Ejemplo1. Leyendo los datos de Titanic\n",
    "titanic=pd.read_csv('http://academic.uprm.edu/eacuna/titanic.csv',header=0,sep=',',na_values='')\n",
    "titanic.info()"
   ]
  },
  {
   "cell_type": "code",
   "execution_count": 7,
   "metadata": {},
   "outputs": [
    {
     "name": "stdout",
     "output_type": "stream",
     "text": [
      "<class 'pandas.core.frame.DataFrame'>\n",
      "RangeIndex: 1309 entries, 0 to 1308\n",
      "Data columns (total 8 columns):\n",
      "Pclass      1309 non-null int64\n",
      "Sex         1309 non-null object\n",
      "Age         1046 non-null float64\n",
      "SibSp       1309 non-null int64\n",
      "Parch       1309 non-null int64\n",
      "Ticket      1309 non-null object\n",
      "Fare        1308 non-null float64\n",
      "Embarked    1307 non-null object\n",
      "dtypes: float64(2), int64(3), object(3)\n",
      "memory usage: 81.9+ KB\n"
     ]
    }
   ],
   "source": [
    "#Eiminando las columnas PassengerId, Name y cabin(la cual tiene demasiados\n",
    "#missing values)\n",
    "titanic1=titanic.iloc[:,[1,3,4,5,6,7,8,10]]\n",
    "titanic1.info()"
   ]
  },
  {
   "cell_type": "code",
   "execution_count": 8,
   "metadata": {
    "collapsed": true
   },
   "outputs": [],
   "source": [
    "#Imputando los missing values por la media si el atributo es continuo\n",
    "#y por la moda si el atributo es nominal\n",
    "from sklearn.preprocessing import Imputer\n",
    "from sklearn.base import TransformerMixin\n",
    "\n",
    "class DataFrameImputer(TransformerMixin):\n",
    "\n",
    "    def fit(self, X, y=None):\n",
    "\n",
    "        self.fill = pd.Series([X[c].value_counts().index[0]\n",
    "            if X[c].dtype == np.dtype('O') else X[c].mean() for c in X],\n",
    "            index=X.columns)\n",
    "\n",
    "        return self\n",
    "\n",
    "    def transform(self, X, y=None):\n",
    "        return X.fillna(self.fill)\n",
    "X=titanic1\n",
    "xt = DataFrameImputer().fit_transform(X)"
   ]
  },
  {
   "cell_type": "code",
   "execution_count": 9,
   "metadata": {},
   "outputs": [
    {
     "name": "stdout",
     "output_type": "stream",
     "text": [
      "<class 'pandas.core.frame.DataFrame'>\n",
      "RangeIndex: 1309 entries, 0 to 1308\n",
      "Data columns (total 8 columns):\n",
      "Pclass      1309 non-null int64\n",
      "Sex         1309 non-null object\n",
      "Age         1309 non-null float64\n",
      "SibSp       1309 non-null int64\n",
      "Parch       1309 non-null int64\n",
      "Ticket      1309 non-null object\n",
      "Fare        1309 non-null float64\n",
      "Embarked    1309 non-null object\n",
      "dtypes: float64(2), int64(3), object(3)\n",
      "memory usage: 81.9+ KB\n"
     ]
    }
   ],
   "source": [
    "xt.info()"
   ]
  },
  {
   "cell_type": "code",
   "execution_count": 10,
   "metadata": {
    "collapsed": true
   },
   "outputs": [],
   "source": [
    "#Imputando los missing values por la mediana si el atributo es continuo\n",
    "#y por la moda si el atributo es nominal\n",
    "\n",
    "class DataFrameImputer(TransformerMixin):\n",
    "\n",
    "    def fit(self, X, y=None):\n",
    "\n",
    "        self.fill = pd.Series([X[c].value_counts().index[0]\n",
    "            if X[c].dtype == np.dtype('O') else X[c].median() for c in X],\n",
    "            index=X.columns)\n",
    "\n",
    "        return self\n",
    "\n",
    "    def transform(self, X, y=None):\n",
    "        return X.fillna(self.fill)\n",
    "X=titanic1\n",
    "xt = DataFrameImputer().fit_transform(X)"
   ]
  },
  {
   "cell_type": "code",
   "execution_count": 11,
   "metadata": {
    "collapsed": true
   },
   "outputs": [],
   "source": [
    "#imputando por knn\n",
    "from sklearn import datasets\n",
    "from sklearn import neighbors\n",
    "\n",
    "class ImputeLearn(object):\n",
    "    def __init__(self, mat):\n",
    "        self.mat = np.array(mat)\n",
    "        self.mat_isnan = np.isnan(self.mat)\n",
    "        self.w = np.where(np.isnan(self.mat))\n",
    "\n",
    "    def impute(self, learner):\n",
    "        ximp = self.mat.copy()\n",
    "        for i in np.arange(0, len(self.w[0])):\n",
    "            n = self.w[0][i] # row where the nan is\n",
    "            p = self.w[1][i] # column where the nan is\n",
    "            col_isnan = self.mat_isnan[n, :] # empty columns in row n\n",
    "            train = np.delete(self.mat, n, axis = 0) # remove row n to obtain a training set\n",
    "            train_nonan = train[~np.apply_along_axis(np.any, 1, np.isnan(train)), :] # remove rows where there is a nan in the training set\n",
    "            target = train_nonan[:, p] # vector to be predicted\n",
    "            feature = train_nonan[:, ~col_isnan] # matrix of predictors\n",
    "            learn = learner.fit(feature, target) # learner\n",
    "            ximp[n, p] = learn.predict(self.mat[n, ~col_isnan].reshape(1, -1)) # predict and replace\n",
    "        \n",
    "        return(ximp)"
   ]
  },
  {
   "cell_type": "code",
   "execution_count": 12,
   "metadata": {
    "collapsed": true
   },
   "outputs": [],
   "source": [
    "#Convirtiendo las variables nominales en numericas, puesto que \n",
    "#la imputacion knn de python no trabaja con variables mezcladas\n",
    "titanic2=titanic1.apply(preprocessing.LabelEncoder().fit_transform)"
   ]
  },
  {
   "cell_type": "code",
   "execution_count": 13,
   "metadata": {},
   "outputs": [
    {
     "name": "stdout",
     "output_type": "stream",
     "text": [
      "<class 'pandas.core.frame.DataFrame'>\n",
      "RangeIndex: 1309 entries, 0 to 1308\n",
      "Data columns (total 8 columns):\n",
      "Pclass      1309 non-null int64\n",
      "Sex         1309 non-null int64\n",
      "Age         1309 non-null int64\n",
      "SibSp       1309 non-null int64\n",
      "Parch       1309 non-null int64\n",
      "Ticket      1309 non-null int64\n",
      "Fare        1309 non-null int64\n",
      "Embarked    1309 non-null int64\n",
      "dtypes: int64(8)\n",
      "memory usage: 81.9 KB\n"
     ]
    }
   ],
   "source": [
    "titanic2.info()"
   ]
  },
  {
   "cell_type": "code",
   "execution_count": 14,
   "metadata": {},
   "outputs": [
    {
     "data": {
      "text/html": [
       "<div>\n",
       "<style>\n",
       "    .dataframe thead tr:only-child th {\n",
       "        text-align: right;\n",
       "    }\n",
       "\n",
       "    .dataframe thead th {\n",
       "        text-align: left;\n",
       "    }\n",
       "\n",
       "    .dataframe tbody tr th {\n",
       "        vertical-align: top;\n",
       "    }\n",
       "</style>\n",
       "<table border=\"1\" class=\"dataframe\">\n",
       "  <thead>\n",
       "    <tr style=\"text-align: right;\">\n",
       "      <th></th>\n",
       "      <th>Pclass</th>\n",
       "      <th>Sex</th>\n",
       "      <th>Age</th>\n",
       "      <th>SibSp</th>\n",
       "      <th>Parch</th>\n",
       "      <th>Ticket</th>\n",
       "      <th>Fare</th>\n",
       "      <th>Embarked</th>\n",
       "    </tr>\n",
       "  </thead>\n",
       "  <tbody>\n",
       "    <tr>\n",
       "      <th>0</th>\n",
       "      <td>2</td>\n",
       "      <td>1</td>\n",
       "      <td>32</td>\n",
       "      <td>1</td>\n",
       "      <td>0</td>\n",
       "      <td>720</td>\n",
       "      <td>20</td>\n",
       "      <td>4</td>\n",
       "    </tr>\n",
       "    <tr>\n",
       "      <th>1</th>\n",
       "      <td>0</td>\n",
       "      <td>0</td>\n",
       "      <td>57</td>\n",
       "      <td>1</td>\n",
       "      <td>0</td>\n",
       "      <td>816</td>\n",
       "      <td>237</td>\n",
       "      <td>2</td>\n",
       "    </tr>\n",
       "    <tr>\n",
       "      <th>2</th>\n",
       "      <td>2</td>\n",
       "      <td>0</td>\n",
       "      <td>39</td>\n",
       "      <td>0</td>\n",
       "      <td>0</td>\n",
       "      <td>914</td>\n",
       "      <td>50</td>\n",
       "      <td>4</td>\n",
       "    </tr>\n",
       "    <tr>\n",
       "      <th>3</th>\n",
       "      <td>0</td>\n",
       "      <td>0</td>\n",
       "      <td>53</td>\n",
       "      <td>1</td>\n",
       "      <td>0</td>\n",
       "      <td>65</td>\n",
       "      <td>217</td>\n",
       "      <td>4</td>\n",
       "    </tr>\n",
       "    <tr>\n",
       "      <th>4</th>\n",
       "      <td>2</td>\n",
       "      <td>1</td>\n",
       "      <td>53</td>\n",
       "      <td>0</td>\n",
       "      <td>0</td>\n",
       "      <td>649</td>\n",
       "      <td>52</td>\n",
       "      <td>4</td>\n",
       "    </tr>\n",
       "  </tbody>\n",
       "</table>\n",
       "</div>"
      ],
      "text/plain": [
       "   Pclass  Sex  Age  SibSp  Parch  Ticket  Fare  Embarked\n",
       "0       2    1   32      1      0     720    20         4\n",
       "1       0    0   57      1      0     816   237         2\n",
       "2       2    0   39      0      0     914    50         4\n",
       "3       0    0   53      1      0      65   217         4\n",
       "4       2    1   53      0      0     649    52         4"
      ]
     },
     "execution_count": 14,
     "metadata": {},
     "output_type": "execute_result"
    }
   ],
   "source": [
    "titanic2.head()"
   ]
  },
  {
   "cell_type": "code",
   "execution_count": 15,
   "metadata": {
    "collapsed": true
   },
   "outputs": [],
   "source": [
    "b1=np.array(titanic2)"
   ]
  },
  {
   "cell_type": "code",
   "execution_count": 16,
   "metadata": {
    "collapsed": true
   },
   "outputs": [],
   "source": [
    "titanic_knnimp=ImputeLearn(b1).impute(learner = neighbors.KNeighborsRegressor(n_neighbors = 5))"
   ]
  },
  {
   "cell_type": "code",
   "execution_count": 17,
   "metadata": {},
   "outputs": [
    {
     "name": "stdout",
     "output_type": "stream",
     "text": [
      "<class 'pandas.core.frame.DataFrame'>\n",
      "RangeIndex: 1309 entries, 0 to 1308\n",
      "Data columns (total 8 columns):\n",
      "0    1309 non-null int64\n",
      "1    1309 non-null int64\n",
      "2    1309 non-null int64\n",
      "3    1309 non-null int64\n",
      "4    1309 non-null int64\n",
      "5    1309 non-null int64\n",
      "6    1309 non-null int64\n",
      "7    1309 non-null int64\n",
      "dtypes: int64(8)\n",
      "memory usage: 81.9 KB\n"
     ]
    }
   ],
   "source": [
    "completo=pd.DataFrame(titanic_knnimp)\n",
    "completo.info()"
   ]
  },
  {
   "cell_type": "code",
   "execution_count": 18,
   "metadata": {
    "collapsed": true
   },
   "outputs": [],
   "source": [
    "#Ejemplo 2. Simulando misising values e imputandolos wn wl dataset segment de la UCI\n",
    "seg=pd.read_table('http://archive.ics.uci.edu/ml/machine-learning-databases/statlog/segment/segment.dat',header=None, delim_whitespace=True)\n",
    "seg.columns=['v1','v2','v3','v4','v5','v6','v7','v8','v9','v10','v11','v12','v13','v14','v15','v16','v17','v18','v19','class']"
   ]
  },
  {
   "cell_type": "code",
   "execution_count": 19,
   "metadata": {},
   "outputs": [
    {
     "name": "stdout",
     "output_type": "stream",
     "text": [
      "<class 'pandas.core.frame.DataFrame'>\n",
      "RangeIndex: 2310 entries, 0 to 2309\n",
      "Data columns (total 20 columns):\n",
      "v1       2310 non-null float64\n",
      "v2       2310 non-null float64\n",
      "v3       2310 non-null int64\n",
      "v4       2310 non-null float64\n",
      "v5       2310 non-null float64\n",
      "v6       2310 non-null float64\n",
      "v7       2310 non-null float64\n",
      "v8       2310 non-null float64\n",
      "v9       2310 non-null float64\n",
      "v10      2310 non-null float64\n",
      "v11      2310 non-null float64\n",
      "v12      2310 non-null float64\n",
      "v13      2310 non-null float64\n",
      "v14      2310 non-null float64\n",
      "v15      2310 non-null float64\n",
      "v16      2310 non-null float64\n",
      "v17      2310 non-null float64\n",
      "v18      2310 non-null float64\n",
      "v19      2310 non-null float64\n",
      "class    2310 non-null int64\n",
      "dtypes: float64(18), int64(2)\n",
      "memory usage: 361.0 KB\n"
     ]
    }
   ],
   "source": [
    "seg.info()"
   ]
  },
  {
   "cell_type": "markdown",
   "metadata": {},
   "source": [
    "Todos las variables de segment son cuantitativas."
   ]
  },
  {
   "cell_type": "code",
   "execution_count": 20,
   "metadata": {},
   "outputs": [],
   "source": [
    "#simulando un 5% de celdas missing\n",
    "import random\n",
    "seg5=seg.copy()\n",
    "seg5= seg5.stack().sample(frac=0.95).unstack().reindex(index=seg5.index, columns=seg5.columns)\n"
   ]
  },
  {
   "cell_type": "code",
   "execution_count": 21,
   "metadata": {},
   "outputs": [
    {
     "data": {
      "text/html": [
       "<div>\n",
       "<style>\n",
       "    .dataframe thead tr:only-child th {\n",
       "        text-align: right;\n",
       "    }\n",
       "\n",
       "    .dataframe thead th {\n",
       "        text-align: left;\n",
       "    }\n",
       "\n",
       "    .dataframe tbody tr th {\n",
       "        vertical-align: top;\n",
       "    }\n",
       "</style>\n",
       "<table border=\"1\" class=\"dataframe\">\n",
       "  <thead>\n",
       "    <tr style=\"text-align: right;\">\n",
       "      <th></th>\n",
       "      <th>v1</th>\n",
       "      <th>v2</th>\n",
       "      <th>v3</th>\n",
       "      <th>v4</th>\n",
       "      <th>v5</th>\n",
       "      <th>v6</th>\n",
       "      <th>v7</th>\n",
       "      <th>v8</th>\n",
       "      <th>v9</th>\n",
       "      <th>v10</th>\n",
       "      <th>v11</th>\n",
       "      <th>v12</th>\n",
       "      <th>v13</th>\n",
       "      <th>v14</th>\n",
       "      <th>v15</th>\n",
       "      <th>v16</th>\n",
       "      <th>v17</th>\n",
       "      <th>v18</th>\n",
       "      <th>v19</th>\n",
       "      <th>class</th>\n",
       "    </tr>\n",
       "  </thead>\n",
       "  <tbody>\n",
       "    <tr>\n",
       "      <th>0</th>\n",
       "      <td>218.0</td>\n",
       "      <td>178.0</td>\n",
       "      <td>9.0</td>\n",
       "      <td>0.111111</td>\n",
       "      <td>0.0</td>\n",
       "      <td>0.833333</td>\n",
       "      <td>0.547722</td>\n",
       "      <td>NaN</td>\n",
       "      <td>0.544331</td>\n",
       "      <td>59.629630</td>\n",
       "      <td>52.444443</td>\n",
       "      <td>75.222220</td>\n",
       "      <td>51.222220</td>\n",
       "      <td>-21.555555</td>\n",
       "      <td>46.77778</td>\n",
       "      <td>-25.222221</td>\n",
       "      <td>75.222220</td>\n",
       "      <td>0.318996</td>\n",
       "      <td>-2.040554</td>\n",
       "      <td>6.0</td>\n",
       "    </tr>\n",
       "    <tr>\n",
       "      <th>1</th>\n",
       "      <td>113.0</td>\n",
       "      <td>130.0</td>\n",
       "      <td>9.0</td>\n",
       "      <td>0.000000</td>\n",
       "      <td>0.0</td>\n",
       "      <td>0.277778</td>\n",
       "      <td>0.250924</td>\n",
       "      <td>0.333333</td>\n",
       "      <td>0.365148</td>\n",
       "      <td>0.888889</td>\n",
       "      <td>0.000000</td>\n",
       "      <td>2.555556</td>\n",
       "      <td>0.111111</td>\n",
       "      <td>-2.666667</td>\n",
       "      <td>5.00000</td>\n",
       "      <td>-2.333333</td>\n",
       "      <td>2.555556</td>\n",
       "      <td>1.000000</td>\n",
       "      <td>-2.123254</td>\n",
       "      <td>3.0</td>\n",
       "    </tr>\n",
       "    <tr>\n",
       "      <th>2</th>\n",
       "      <td>202.0</td>\n",
       "      <td>41.0</td>\n",
       "      <td>9.0</td>\n",
       "      <td>0.000000</td>\n",
       "      <td>0.0</td>\n",
       "      <td>0.944448</td>\n",
       "      <td>0.772202</td>\n",
       "      <td>1.111112</td>\n",
       "      <td>1.025597</td>\n",
       "      <td>123.037040</td>\n",
       "      <td>111.888885</td>\n",
       "      <td>139.777790</td>\n",
       "      <td>117.444440</td>\n",
       "      <td>-33.444443</td>\n",
       "      <td>50.22222</td>\n",
       "      <td>-16.777779</td>\n",
       "      <td>139.777790</td>\n",
       "      <td>0.199347</td>\n",
       "      <td>-2.299918</td>\n",
       "      <td>2.0</td>\n",
       "    </tr>\n",
       "    <tr>\n",
       "      <th>3</th>\n",
       "      <td>32.0</td>\n",
       "      <td>173.0</td>\n",
       "      <td>9.0</td>\n",
       "      <td>0.000000</td>\n",
       "      <td>0.0</td>\n",
       "      <td>1.722222</td>\n",
       "      <td>1.781593</td>\n",
       "      <td>9.000000</td>\n",
       "      <td>6.749488</td>\n",
       "      <td>43.592594</td>\n",
       "      <td>39.555557</td>\n",
       "      <td>52.888890</td>\n",
       "      <td>38.333336</td>\n",
       "      <td>-12.111111</td>\n",
       "      <td>27.88889</td>\n",
       "      <td>-15.777778</td>\n",
       "      <td>52.888890</td>\n",
       "      <td>0.266914</td>\n",
       "      <td>-1.998858</td>\n",
       "      <td>6.0</td>\n",
       "    </tr>\n",
       "    <tr>\n",
       "      <th>4</th>\n",
       "      <td>61.0</td>\n",
       "      <td>197.0</td>\n",
       "      <td>9.0</td>\n",
       "      <td>NaN</td>\n",
       "      <td>NaN</td>\n",
       "      <td>1.444444</td>\n",
       "      <td>1.515353</td>\n",
       "      <td>2.611111</td>\n",
       "      <td>1.925463</td>\n",
       "      <td>49.592594</td>\n",
       "      <td>44.222220</td>\n",
       "      <td>61.555557</td>\n",
       "      <td>43.000000</td>\n",
       "      <td>-16.111110</td>\n",
       "      <td>35.88889</td>\n",
       "      <td>-19.777779</td>\n",
       "      <td>61.555557</td>\n",
       "      <td>NaN</td>\n",
       "      <td>-2.022274</td>\n",
       "      <td>6.0</td>\n",
       "    </tr>\n",
       "  </tbody>\n",
       "</table>\n",
       "</div>"
      ],
      "text/plain": [
       "      v1     v2   v3        v4   v5        v6        v7        v8        v9  \\\n",
       "0  218.0  178.0  9.0  0.111111  0.0  0.833333  0.547722       NaN  0.544331   \n",
       "1  113.0  130.0  9.0  0.000000  0.0  0.277778  0.250924  0.333333  0.365148   \n",
       "2  202.0   41.0  9.0  0.000000  0.0  0.944448  0.772202  1.111112  1.025597   \n",
       "3   32.0  173.0  9.0  0.000000  0.0  1.722222  1.781593  9.000000  6.749488   \n",
       "4   61.0  197.0  9.0       NaN  NaN  1.444444  1.515353  2.611111  1.925463   \n",
       "\n",
       "          v10         v11         v12         v13        v14       v15  \\\n",
       "0   59.629630   52.444443   75.222220   51.222220 -21.555555  46.77778   \n",
       "1    0.888889    0.000000    2.555556    0.111111  -2.666667   5.00000   \n",
       "2  123.037040  111.888885  139.777790  117.444440 -33.444443  50.22222   \n",
       "3   43.592594   39.555557   52.888890   38.333336 -12.111111  27.88889   \n",
       "4   49.592594   44.222220   61.555557   43.000000 -16.111110  35.88889   \n",
       "\n",
       "         v16         v17       v18       v19  class  \n",
       "0 -25.222221   75.222220  0.318996 -2.040554    6.0  \n",
       "1  -2.333333    2.555556  1.000000 -2.123254    3.0  \n",
       "2 -16.777779  139.777790  0.199347 -2.299918    2.0  \n",
       "3 -15.777778   52.888890  0.266914 -1.998858    6.0  \n",
       "4 -19.777779   61.555557       NaN -2.022274    6.0  "
      ]
     },
     "execution_count": 21,
     "metadata": {},
     "output_type": "execute_result"
    }
   ],
   "source": [
    "seg5.head()"
   ]
  },
  {
   "cell_type": "code",
   "execution_count": 22,
   "metadata": {},
   "outputs": [
    {
     "name": "stdout",
     "output_type": "stream",
     "text": [
      "<class 'pandas.core.frame.DataFrame'>\n",
      "RangeIndex: 2310 entries, 0 to 2309\n",
      "Data columns (total 20 columns):\n",
      "v1       2201 non-null float64\n",
      "v2       2180 non-null float64\n",
      "v3       2177 non-null float64\n",
      "v4       2183 non-null float64\n",
      "v5       2194 non-null float64\n",
      "v6       2195 non-null float64\n",
      "v7       2194 non-null float64\n",
      "v8       2211 non-null float64\n",
      "v9       2183 non-null float64\n",
      "v10      2178 non-null float64\n",
      "v11      2210 non-null float64\n",
      "v12      2200 non-null float64\n",
      "v13      2199 non-null float64\n",
      "v14      2196 non-null float64\n",
      "v15      2203 non-null float64\n",
      "v16      2211 non-null float64\n",
      "v17      2198 non-null float64\n",
      "v18      2176 non-null float64\n",
      "v19      2207 non-null float64\n",
      "class    2194 non-null float64\n",
      "dtypes: float64(20)\n",
      "memory usage: 361.0 KB\n"
     ]
    }
   ],
   "source": [
    "seg5.info()"
   ]
  },
  {
   "cell_type": "code",
   "execution_count": 23,
   "metadata": {
    "collapsed": true
   },
   "outputs": [],
   "source": [
    "#imputando por la media\n",
    "seg5.mean=seg5.apply(lambda x: x.fillna(x.mean()),axis=0)"
   ]
  },
  {
   "cell_type": "code",
   "execution_count": 24,
   "metadata": {
    "collapsed": true
   },
   "outputs": [],
   "source": [
    "#Imputando por la mediana\n",
    "seg5.median=seg5.apply(lambda x: x.fillna(x.median()),axis=0)"
   ]
  },
  {
   "cell_type": "code",
   "execution_count": 25,
   "metadata": {
    "collapsed": true
   },
   "outputs": [],
   "source": [
    "#imputando usando knn\n",
    "from sklearn import datasets\n",
    "from sklearn import neighbors\n",
    "\n",
    "class ImputeLearn(object):\n",
    "    def __init__(self, mat):\n",
    "        self.mat = np.array(mat)\n",
    "        self.mat_isnan = np.isnan(self.mat)\n",
    "        self.w = np.where(np.isnan(self.mat))\n",
    "\n",
    "    def impute(self, learner):\n",
    "        ximp = self.mat.copy()\n",
    "        for i in np.arange(0, len(self.w[0])):\n",
    "            n = self.w[0][i] # row where the nan is\n",
    "            p = self.w[1][i] # column where the nan is\n",
    "            col_isnan = self.mat_isnan[n, :] # empty columns in row n\n",
    "            train = np.delete(self.mat, n, axis = 0) # remove row n to obtain a training set\n",
    "            train_nonan = train[~np.apply_along_axis(np.any, 1, np.isnan(train)), :] # remove rows where there is a nan in the training set\n",
    "            target = train_nonan[:, p] # vector to be predicted\n",
    "            feature = train_nonan[:, ~col_isnan] # matrix of predictors\n",
    "            learn = learner.fit(feature, target) # learner\n",
    "            ximp[n, p] = learn.predict(self.mat[n, ~col_isnan].reshape(1, -1)) # predict and replace\n",
    "        \n",
    "        return(ximp)"
   ]
  },
  {
   "cell_type": "code",
   "execution_count": 26,
   "metadata": {
    "collapsed": true
   },
   "outputs": [],
   "source": [
    "b1=np.array(seg5)"
   ]
  },
  {
   "cell_type": "code",
   "execution_count": 27,
   "metadata": {
    "collapsed": true
   },
   "outputs": [],
   "source": [
    "data_imp = ImputeLearn(b1).impute(learner = neighbors.KNeighborsRegressor(n_neighbors = 5))"
   ]
  },
  {
   "cell_type": "code",
   "execution_count": 28,
   "metadata": {
    "collapsed": true
   },
   "outputs": [],
   "source": [
    "completoknn5=pd.DataFrame(data_imp)"
   ]
  },
  {
   "cell_type": "code",
   "execution_count": 29,
   "metadata": {},
   "outputs": [
    {
     "name": "stdout",
     "output_type": "stream",
     "text": [
      "<class 'pandas.core.frame.DataFrame'>\n",
      "RangeIndex: 2310 entries, 0 to 2309\n",
      "Data columns (total 20 columns):\n",
      "0     2310 non-null float64\n",
      "1     2310 non-null float64\n",
      "2     2310 non-null float64\n",
      "3     2310 non-null float64\n",
      "4     2310 non-null float64\n",
      "5     2310 non-null float64\n",
      "6     2310 non-null float64\n",
      "7     2310 non-null float64\n",
      "8     2310 non-null float64\n",
      "9     2310 non-null float64\n",
      "10    2310 non-null float64\n",
      "11    2310 non-null float64\n",
      "12    2310 non-null float64\n",
      "13    2310 non-null float64\n",
      "14    2310 non-null float64\n",
      "15    2310 non-null float64\n",
      "16    2310 non-null float64\n",
      "17    2310 non-null float64\n",
      "18    2310 non-null float64\n",
      "19    2310 non-null float64\n",
      "dtypes: float64(20)\n",
      "memory usage: 361.0 KB\n"
     ]
    }
   ],
   "source": [
    "completoknn5.info()"
   ]
  },
  {
   "cell_type": "code",
   "execution_count": 30,
   "metadata": {},
   "outputs": [
    {
     "data": {
      "text/plain": [
       "57.315818938015127"
      ]
     },
     "execution_count": 30,
     "metadata": {},
     "output_type": "execute_result"
    }
   ],
   "source": [
    "from sklearn.metrics import mean_squared_error\n",
    "#Calculando el cuadrado medio del error para imputacion por la media\n",
    "completo5mean=pd.DataFrame(seg5.mean)\n",
    "mean_squared_error(seg,completo5mean)"
   ]
  },
  {
   "cell_type": "code",
   "execution_count": 31,
   "metadata": {},
   "outputs": [
    {
     "data": {
      "text/plain": [
       "61.287280661252964"
      ]
     },
     "execution_count": 31,
     "metadata": {},
     "output_type": "execute_result"
    }
   ],
   "source": [
    "#Calculando el cuadrado medio del error para imputacion por la mediana\n",
    "completo5median=pd.DataFrame(seg5.median)\n",
    "mean_squared_error(seg,completo5median)"
   ]
  },
  {
   "cell_type": "code",
   "execution_count": 33,
   "metadata": {},
   "outputs": [
    {
     "data": {
      "text/plain": [
       "25.325704044158805"
      ]
     },
     "execution_count": 33,
     "metadata": {},
     "output_type": "execute_result"
    }
   ],
   "source": [
    "#Calculando el cuadrado medio del error para imputacion knn\n",
    "mean_squared_error(seg,completoknn5)"
   ]
  },
  {
   "cell_type": "markdown",
   "metadata": {},
   "source": [
    "Notar que el mejor metodo de imputacion ha sido knn"
   ]
  },
  {
   "cell_type": "code",
   "execution_count": 45,
   "metadata": {},
   "outputs": [
    {
     "name": "stdout",
     "output_type": "stream",
     "text": [
      "<class 'pandas.core.frame.DataFrame'>\n",
      "RangeIndex: 2310 entries, 0 to 2309\n",
      "Data columns (total 20 columns):\n",
      "v1       1834 non-null float64\n",
      "v2       1856 non-null float64\n",
      "v3       1862 non-null float64\n",
      "v4       1847 non-null float64\n",
      "v5       1830 non-null float64\n",
      "v6       1838 non-null float64\n",
      "v7       1833 non-null float64\n",
      "v8       1820 non-null float64\n",
      "v9       1872 non-null float64\n",
      "v10      1843 non-null float64\n",
      "v11      1858 non-null float64\n",
      "v12      1858 non-null float64\n",
      "v13      1836 non-null float64\n",
      "v14      1845 non-null float64\n",
      "v15      1846 non-null float64\n",
      "v16      1858 non-null float64\n",
      "v17      1871 non-null float64\n",
      "v18      1852 non-null float64\n",
      "v19      1846 non-null float64\n",
      "class    1855 non-null float64\n",
      "dtypes: float64(20)\n",
      "memory usage: 361.0 KB\n"
     ]
    }
   ],
   "source": [
    "#simulando un 20% de celdas missing\n",
    "seg20=seg.copy()\n",
    "seg20= seg20.stack().sample(frac=0.80).unstack().reindex(index=seg20.index, columns=seg20.columns)\n",
    "seg20.info()"
   ]
  },
  {
   "cell_type": "code",
   "execution_count": 46,
   "metadata": {},
   "outputs": [
    {
     "data": {
      "text/plain": [
       "2289"
      ]
     },
     "execution_count": 46,
     "metadata": {},
     "output_type": "execute_result"
    }
   ],
   "source": [
    "#hallando el numero de filas que tienen missings\n",
    "sum(seg20.apply(lambda x: sum(x.isnull().values), axis = 1)>0)"
   ]
  },
  {
   "cell_type": "code",
   "execution_count": 47,
   "metadata": {},
   "outputs": [
    {
     "data": {
      "text/plain": [
       "304.12354755148914"
      ]
     },
     "execution_count": 47,
     "metadata": {},
     "output_type": "execute_result"
    }
   ],
   "source": [
    "#imputando por la media al 20%\n",
    "seg20.mean=seg20.apply(lambda x: x.fillna(x.mean()),axis=0)\n",
    "completo20mean=pd.DataFrame(seg20.mean)\n",
    "mean_squared_error(seg,completo20mean)"
   ]
  },
  {
   "cell_type": "code",
   "execution_count": 48,
   "metadata": {},
   "outputs": [
    {
     "data": {
      "text/plain": [
       "318.01878624849377"
      ]
     },
     "execution_count": 48,
     "metadata": {},
     "output_type": "execute_result"
    }
   ],
   "source": [
    "#imputando por la mediana al 20%\n",
    "seg20.median=seg20.apply(lambda x: x.fillna(x.median()),axis=0)\n",
    "completo20median=pd.DataFrame(seg20.median)\n",
    "mean_squared_error(seg,completo20median)"
   ]
  },
  {
   "cell_type": "code",
   "execution_count": 49,
   "metadata": {
    "collapsed": true
   },
   "outputs": [],
   "source": [
    "b2=np.array(seg20)"
   ]
  },
  {
   "cell_type": "code",
   "execution_count": 50,
   "metadata": {},
   "outputs": [],
   "source": [
    "data_imp = ImputeLearn(b2).impute(learner = neighbors.KNeighborsRegressor(n_neighbors = 5))"
   ]
  },
  {
   "cell_type": "code",
   "execution_count": 53,
   "metadata": {},
   "outputs": [
    {
     "data": {
      "text/plain": [
       "241.12667520644851"
      ]
     },
     "execution_count": 53,
     "metadata": {},
     "output_type": "execute_result"
    }
   ],
   "source": [
    "completoknn20=pd.DataFrame(data_imp)\n",
    "mean_squared_error(seg,completoknn20)"
   ]
  },
  {
   "cell_type": "markdown",
   "metadata": {},
   "source": [
    "Nuevamente imputacion por knn resulto ser la mejor"
   ]
  },
  {
   "cell_type": "code",
   "execution_count": null,
   "metadata": {
    "collapsed": true
   },
   "outputs": [],
   "source": []
  }
 ],
 "metadata": {
  "anaconda-cloud": {},
  "kernelspec": {
   "display_name": "Python 2",
   "language": "python",
   "name": "python2"
  },
  "language_info": {
   "codemirror_mode": {
    "name": "ipython",
    "version": 2
   },
   "file_extension": ".py",
   "mimetype": "text/x-python",
   "name": "python",
   "nbconvert_exporter": "python",
   "pygments_lexer": "ipython2",
   "version": "2.7.13"
  }
 },
 "nbformat": 4,
 "nbformat_minor": 1
}
