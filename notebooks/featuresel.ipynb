{
 "cells": [
  {
   "cell_type": "markdown",
   "metadata": {},
   "source": [
    "### ESMA 4016\n",
    "### Feature Selection en Clasificacion Supervisada\n",
    "### Edgar Acuna"
   ]
  },
  {
   "cell_type": "markdown",
   "metadata": {},
   "source": [
    "Uso de la liberia Sklearn de ASU y de skrebate para feaure selection"
   ]
  },
  {
   "cell_type": "markdown",
   "metadata": {},
   "source": [
    "I-Usando la prueba de Chi-Square para ver si hay independenia entre la feature y la clase. \n",
    "\n",
    "De preferencia los datos deben estar discretizados y ademas con dos clases es mejor\n",
    "\n",
    "Personalmente no la recomiendo porque la priueba de Chisquare es aproximada y no muy robusta\n"
   ]
  },
  {
   "cell_type": "code",
   "execution_count": 30,
   "metadata": {},
   "outputs": [
    {
     "name": "stdout",
     "output_type": "stream",
     "text": [
      "[  111.52   1411.887    17.605    53.108  2175.565   127.669     5.393\n",
      "   181.304]\n",
      "[[ 148.     0.    33.6   50. ]\n",
      " [  85.     0.    26.6   31. ]\n",
      " [ 183.     0.    23.3   32. ]\n",
      " ..., \n",
      " [ 121.   112.    26.2   30. ]\n",
      " [ 126.     0.    30.1   47. ]\n",
      " [  93.     0.    30.4   23. ]]\n"
     ]
    }
   ],
   "source": [
    "#Chi-Square usando la libreia de la ASU\n",
    "import pandas as pd\n",
    "import numpy as np\n",
    "from sklearn.feature_selection import SelectKBest\n",
    "from sklearn.feature_selection import chi2, SelectPercentile, f_classif, mutual_info_classif\n",
    "# load data\n",
    "url= \"http://academic.uprm.edu/eacuna/diabetes.dat\"\n",
    "names = ['preg', 'plas', 'pres', 'skin', 'test', 'mass', 'pedi', 'age', 'class']\n",
    "data = pd.read_table(url, names=names,header=None)\n",
    "y=data['class']\n",
    "X=data.iloc[:,0:8]\n",
    "y1=y.as_matrix()\n",
    "X1=X.as_matrix()\n",
    "# feature extraction\n",
    "test = SelectKBest(score_func=chi2, k=4)\n",
    "fit = test.fit(X1, y1)\n",
    "# summarize scores\n",
    "numpy.set_printoptions(precision=3)\n",
    "print(fit.scores_)\n",
    "features= fit.transform(X)\n",
    "# summarize selected features\n",
    "print(features)"
   ]
  },
  {
   "cell_type": "markdown",
   "metadata": {},
   "source": [
    "Comentario: Las tres, mejores variables con la prueba de Chi-square son test,plas y age"
   ]
  },
  {
   "cell_type": "markdown",
   "metadata": {},
   "source": [
    "II-Usando la prueba de estadistica de F para comparar dos o mas grupos\n",
    "\n",
    "Se puede usar la libreria sciki-learn o la libreria de la ASU"
   ]
  },
  {
   "cell_type": "code",
   "execution_count": 31,
   "metadata": {},
   "outputs": [
    {
     "name": "stdout",
     "output_type": "stream",
     "text": [
      "[ 0.221  1.     0.027  0.034  0.084  0.378  0.14   0.253]\n"
     ]
    }
   ],
   "source": [
    "# Selecion  de Features usando los p-values de la F-test como score\n",
    "# We use the default selection function: the 10% most significant features\n",
    "selector = SelectPercentile(f_classif, percentile=10)\n",
    "selector.fit(X, y)\n",
    "scores = -np.log10(selector.pvalues_)\n",
    "scores /= scores.max()\n",
    "print(scores)"
   ]
  },
  {
   "cell_type": "markdown",
   "metadata": {},
   "source": [
    "Comentario: Las tres, mejores variables con la prueba de F son plas,mass y age"
   ]
  },
  {
   "cell_type": "code",
   "execution_count": 32,
   "metadata": {},
   "outputs": [
    {
     "name": "stdout",
     "output_type": "stream",
     "text": [
      "(array([  2.750e+00,   1.609e+00,   9.016e-05,   8.180e+00,   6.089e+00,\n",
      "         1.128e+00]), array([3, 4, 0, 1, 5, 2], dtype=int64))\n"
     ]
    }
   ],
   "source": [
    "from skfeature.function.statistical_based import f_score\n",
    "scoref = f_score.f_score(X_train, y_train)\n",
    "idx = f_score.feature_ranking(scoref)\n",
    "print(scoref,idx)"
   ]
  },
  {
   "cell_type": "markdown",
   "metadata": {},
   "source": [
    "Comentario: las tres variables mas importantes con la prueba de F son: plas, mass y age casi empatado con preg"
   ]
  },
  {
   "cell_type": "markdown",
   "metadata": {},
   "source": [
    "III- Usando Mutual Information (Entropia)\n",
    "\n",
    "Libreria de la ASU\n"
   ]
  },
  {
   "cell_type": "code",
   "execution_count": 33,
   "metadata": {},
   "outputs": [
    {
     "name": "stdout",
     "output_type": "stream",
     "text": [
      "[ 0.46   1.     0.268  0.227  0.387  0.746  0.084  0.309]\n"
     ]
    }
   ],
   "source": [
    "# Univariate feature selection with Mutual Information\n",
    "# We use the default selection function: the 10% most significant features\n",
    "scores = mutual_info_classif(X,y)\n",
    "scores /= scores.max()\n",
    "print(scores)"
   ]
  },
  {
   "cell_type": "markdown",
   "metadata": {},
   "source": [
    "Comentario: Las tres variables usando el criterio de Mutual Information  son: plas, mass y age"
   ]
  },
  {
   "cell_type": "markdown",
   "metadata": {},
   "source": [
    "IV-Usando ReliefF de la libreria skrebate"
   ]
  },
  {
   "cell_type": "code",
   "execution_count": 34,
   "metadata": {
    "collapsed": true
   },
   "outputs": [],
   "source": [
    "import pandas as pd\n",
    "import numpy as np\n",
    "from skrebate import ReliefF\n",
    "from sklearn.model_selection import train_test_split\n",
    "\n",
    "#Leyendo el conjunto de datos pima-diabetes \n",
    "url= \"http://academic.uprm.edu/eacuna/diabetes.dat\"\n",
    "names = ['preg', 'plas', 'pres', 'skin', 'test', 'mass', 'pedi', 'age', 'class']\n",
    "data = pd.read_table(url, names=names,header=None)\n",
    "df=data.drop('class',axis=1)\n",
    "#Normalizando las predictoras\n",
    "df_norm=(df - df.min()) / (df.max() - df.min())\n",
    "features, labels = df_norm.values, data['class'].values"
   ]
  },
  {
   "cell_type": "code",
   "execution_count": 35,
   "metadata": {},
   "outputs": [
    {
     "name": "stdout",
     "output_type": "stream",
     "text": [
      "('preg', 37.264705882352914)\n",
      "('plas', 90.865482233502561)\n",
      "('pres', 10.909836065573774)\n",
      "('skin', 43.090909090909093)\n",
      "('test', 22.227541371158406)\n",
      "('mass', 41.479880774962709)\n",
      "('pedi', 26.99380871050386)\n",
      "('age', 41.233333333333306)\n"
     ]
    }
   ],
   "source": [
    "X_train, X_test, y_train, y_test = train_test_split(features, labels)\n",
    "\n",
    "fs = ReliefF(n_neighbors=10)\n",
    "fs.fit(X_train, y_train)\n",
    "\n",
    "for feature_name, feature_score in zip(df.columns,fs.feature_importances_):\n",
    "    print (feature_name, feature_score)\n"
   ]
  },
  {
   "cell_type": "markdown",
   "metadata": {},
   "source": [
    "Comentario: las tres variables mas importantes con el ReliefF son: plas, skin y mass"
   ]
  },
  {
   "cell_type": "code",
   "execution_count": 36,
   "metadata": {},
   "outputs": [
    {
     "name": "stdout",
     "output_type": "stream",
     "text": [
      "(array([  3.071,  15.215,   3.544,  10.824,   3.297,  11.106,   6.532,\n",
      "         7.023]), array([1, 5, 3, 7, 6, 2, 4, 0], dtype=int64))\n"
     ]
    }
   ],
   "source": [
    "from skfeature.function.similarity_based import reliefF\n",
    "score_relief=reliefF.reliefF(X_train,y_train)\n",
    "feat=reliefF.feature_ranking(score_relief)\n",
    "print(score_relief,feat)"
   ]
  },
  {
   "cell_type": "markdown",
   "metadata": {
    "collapsed": true
   },
   "source": [
    "Comentario: las tres variables mas importantes con el RelieF son: plas, mass y preg"
   ]
  },
  {
   "cell_type": "code",
   "execution_count": 39,
   "metadata": {},
   "outputs": [
    {
     "name": "stdout",
     "output_type": "stream",
     "text": [
      "Feature scores for best three features (scored individually):\n",
      "0.015 alkphos\n",
      "0.013 drinks\n",
      "0.009 sgpt\n"
     ]
    }
   ],
   "source": [
    "import Orange\n",
    "voting = Orange.data.Table(\"bupa\")\n",
    "\n",
    "def print_best_3(ma):\n",
    "    for m in ma[:3]:\n",
    "        print \"%5.3f %s\" % (m[1], m[0])\n",
    "\n",
    "print 'Feature scores for best three features (scored individually):'\n",
    "meas = Orange.feature.scoring.Relief(k=20, m=50)\n",
    "mr = [ (a.name, meas(a, voting)) for a in voting.domain.attributes]\n",
    "mr.sort(key=lambda x: -x[1]) #sort decreasingly by the score\n",
    "print_best_3(mr)"
   ]
  },
  {
   "cell_type": "code",
   "execution_count": 40,
   "metadata": {
    "collapsed": true
   },
   "outputs": [],
   "source": [
    "# load data\n",
    "url= \"http://academic.uprm.edu/eacuna/bupa.dat\"\n",
    "names = ['mcv', 'alkphos', 'sgpt', 'aspar', 'gammagt', 'drinks', 'class']\n",
    "data = pd.read_table(url, names=names,header=None)\n",
    "y=data['class']\n",
    "X=data.iloc[:,0:6]\n",
    "y1=y.as_matrix()\n",
    "X1=X.as_matrix()\n",
    "#Normalizando las predictoras\n",
    "features, labels = X.values, data['class'].values"
   ]
  },
  {
   "cell_type": "code",
   "execution_count": 41,
   "metadata": {
    "collapsed": true
   },
   "outputs": [],
   "source": [
    "X_train, X_test, y_train, y_test = train_test_split(features, labels)"
   ]
  },
  {
   "cell_type": "code",
   "execution_count": 42,
   "metadata": {},
   "outputs": [
    {
     "name": "stdout",
     "output_type": "stream",
     "text": [
      "(array([  49.4,   98.6,  249. ,  124.4,  626. ,   -5.4]), array([4, 2, 3, 1, 0, 5], dtype=int64))\n"
     ]
    }
   ],
   "source": [
    "score_relief=reliefF.reliefF(X_train,y_train)\n",
    "feat=reliefF.feature_ranking(score_relief)\n",
    "print(score_relief,feat)"
   ]
  },
  {
   "cell_type": "code",
   "execution_count": null,
   "metadata": {
    "collapsed": true
   },
   "outputs": [],
   "source": [
    "El Rielief de ASU recomienda gmmagt sgpt y aspar como las mejoras predicotas"
   ]
  },
  {
   "cell_type": "code",
   "execution_count": 43,
   "metadata": {},
   "outputs": [
    {
     "name": "stdout",
     "output_type": "stream",
     "text": [
      "('mcv', 0.98000000000000353)\n",
      "('alkphos', 0.21171171171171305)\n",
      "('sgpt', 6.8708609271523198)\n",
      "('aspar', 9.2402597402597362)\n",
      "('gammagt', 13.940068493150688)\n",
      "('drinks', 1.6499999999999995)\n"
     ]
    }
   ],
   "source": [
    "fs = ReliefF(n_neighbors=10)\n",
    "fs.fit(X_train, y_train)\n",
    "\n",
    "for feature_name, feature_score in zip(data.columns,fs.feature_importances_):\n",
    "    print (feature_name, feature_score)\n"
   ]
  },
  {
   "cell_type": "code",
   "execution_count": null,
   "metadata": {
    "collapsed": true
   },
   "outputs": [],
   "source": [
    "El relielf de skrebate recomienda gammagt, aspar y sgpt "
   ]
  },
  {
   "cell_type": "code",
   "execution_count": 66,
   "metadata": {},
   "outputs": [],
   "source": [
    "url='http://academic.uprm.edu/eacuna/landsat.txt'\n",
    "data = pd.read_table(url, header=None,delim_whitespace=True)\n",
    "y=data.iloc[:,36]\n",
    "X=data.iloc[:,0:37]\n",
    "y1=y.as_matrix()\n",
    "X1=X.as_matrix()\n",
    "features, labels = X.values, y.values\n",
    "X_train, X_test, y_train, y_test = train_test_split(features, labels)"
   ]
  },
  {
   "cell_type": "code",
   "execution_count": 67,
   "metadata": {},
   "outputs": [
    {
     "name": "stdout",
     "output_type": "stream",
     "text": [
      "(array([  941747.744,  1279733.562,   902156.332,  1059044.258,\n",
      "         891007.836,  1209213.365,   843318.948,  1015684.606,\n",
      "         941338.702,  1298755.499,   871575.744,  1105771.587,\n",
      "         961920.502,  1254938.283,   876021.335,  1071337.556,\n",
      "         945309.496,  1287183.944,   842435.611,  1008633.472,\n",
      "        1001780.645,  1377210.983,   782792.16 ,  1039137.431,\n",
      "         968576.684,  1324333.508,   867002.867,  1040189.761,\n",
      "         924347.479,  1312179.194,   823315.111,   991393.79 ,\n",
      "         969701.117,  1391778.929,   857372.205,  1087866.692,   222420.787]), array([33, 21, 25, 29,  9, 17,  1, 13,  5, 11, 35, 15,  3, 27, 23,  7, 19,\n",
      "       20, 31, 32, 24, 12, 16,  0,  8, 28,  2,  4, 14, 10, 26, 34,  6, 18,\n",
      "       30, 22, 36], dtype=int64))\n"
     ]
    }
   ],
   "source": [
    "score_relief=reliefF.reliefF(X_train,y_train)\n",
    "feat=reliefF.feature_ranking(score_relief)\n",
    "print(score_relief,feat)"
   ]
  },
  {
   "cell_type": "code",
   "execution_count": null,
   "metadata": {
    "collapsed": true
   },
   "outputs": [],
   "source": []
  }
 ],
 "metadata": {
  "kernelspec": {
   "display_name": "Python 2",
   "language": "python",
   "name": "python2"
  },
  "language_info": {
   "codemirror_mode": {
    "name": "ipython",
    "version": 2
   },
   "file_extension": ".py",
   "mimetype": "text/x-python",
   "name": "python",
   "nbconvert_exporter": "python",
   "pygments_lexer": "ipython2",
   "version": "2.7.13"
  }
 },
 "nbformat": 4,
 "nbformat_minor": 2
}
